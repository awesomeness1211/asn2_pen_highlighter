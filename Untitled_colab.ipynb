{
  "cells": [
    {
      "cell_type": "markdown",
      "metadata": {
        "id": "view-in-github",
        "colab_type": "text"
      },
      "source": [
        "<a href=\"https://colab.research.google.com/github/awesomeness1211/asn2_pen_highlighter/blob/main/Untitled_colab.ipynb\" target=\"_parent\"><img src=\"https://colab.research.google.com/assets/colab-badge.svg\" alt=\"Open In Colab\"/></a>"
      ]
    },
    {
      "cell_type": "markdown",
      "id": "ba5ed141-cee7-4bc2-a3c9-18334a9f893d",
      "metadata": {
        "id": "ba5ed141-cee7-4bc2-a3c9-18334a9f893d"
      },
      "source": [
        "# ASN2 - Object Detection"
      ]
    },
    {
      "cell_type": "markdown",
      "id": "ae2c701e-d4d0-42fc-951d-4fcb44e8c355",
      "metadata": {
        "id": "ae2c701e-d4d0-42fc-951d-4fcb44e8c355"
      },
      "source": [
        "In this assignment, I will go through how to detect objects using YOLOv8 to do so. This involves the classification of images of pens and highlighters."
      ]
    },
    {
      "cell_type": "code",
      "execution_count": null,
      "id": "d0a36782-426b-476c-b32b-58f38f3ce7b1",
      "metadata": {
        "colab": {
          "base_uri": "https://localhost:8080/",
          "height": 1000
        },
        "id": "d0a36782-426b-476c-b32b-58f38f3ce7b1",
        "outputId": "5200982e-e3ba-44bb-90ff-a96c1552c14f"
      },
      "outputs": [
        {
          "output_type": "stream",
          "name": "stdout",
          "text": [
            "Archive:  pen_highlighter_annotated_dataset.zip\n"
          ]
        },
        {
          "output_type": "stream",
          "name": "stderr",
          "text": [
            "--2025-07-11 12:56:59--  https://github.com/awesomeness1211/asn2_pen_highlighter/raw/main/pen_highlighter_annotated_dataset.zip\n",
            "Resolving github.com (github.com)... 20.205.243.166\n",
            "Connecting to github.com (github.com)|20.205.243.166|:443... connected.\n",
            "HTTP request sent, awaiting response... 302 Found\n",
            "Location: https://raw.githubusercontent.com/awesomeness1211/asn2_pen_highlighter/main/pen_highlighter_annotated_dataset.zip [following]\n",
            "--2025-07-11 12:56:59--  https://raw.githubusercontent.com/awesomeness1211/asn2_pen_highlighter/main/pen_highlighter_annotated_dataset.zip\n",
            "Resolving raw.githubusercontent.com (raw.githubusercontent.com)... 185.199.108.133, 185.199.109.133, 185.199.110.133, ...\n",
            "Connecting to raw.githubusercontent.com (raw.githubusercontent.com)|185.199.108.133|:443... connected.\n",
            "HTTP request sent, awaiting response... 200 OK\n",
            "Length: 5579790 (5.3M) [application/zip]\n",
            "Saving to: ‘pen_highlighter_annotated_dataset.zip.4’\n",
            "\n",
            "     0K .......... .......... .......... .......... ..........  0% 38.1M 0s\n",
            "    50K .......... .......... .......... .......... ..........  1% 64.6M 0s\n",
            "   100K .......... .......... .......... .......... ..........  2%  158M 0s\n",
            "   150K .......... .......... .......... .......... ..........  3% 75.8M 0s\n",
            "   200K .......... .......... .......... .......... ..........  4%  167M 0s\n",
            "   250K .......... .......... .......... .......... ..........  5%  296M 0s\n",
            "   300K .......... .......... .......... .......... ..........  6%  111M 0s\n",
            "   350K .......... .......... .......... .......... ..........  7%  130M 0s\n",
            "   400K .......... .......... .......... .......... ..........  8%  212M 0s\n",
            "   450K .......... .......... .......... .......... ..........  9%  213M 0s\n",
            "   500K .......... .......... .......... .......... .......... 10%  142M 0s\n",
            "   550K .......... .......... .......... .......... .......... 11%  249M 0s\n",
            "   600K .......... .......... .......... .......... .......... 11%  186M 0s\n",
            "   650K .......... .......... .......... .......... .......... 12%  276M 0s\n",
            "   700K .......... .......... .......... .......... .......... 13%  180M 0s\n",
            "   750K .......... .......... .......... .......... .......... 14%  168M 0s\n",
            "   800K .......... .......... .......... .......... .......... 15%  299M 0s\n",
            "   850K .......... .......... .......... .......... .......... 16%  305M 0s\n",
            "   900K .......... .......... .......... .......... .......... 17%  273M 0s\n",
            "   950K .......... .......... .......... .......... .......... 18%  240M 0s\n",
            "  1000K .......... .......... .......... .......... .......... 19%  166M 0s\n",
            "  1050K .......... .......... .......... .......... .......... 20%  303M 0s\n",
            "  1100K .......... .......... .......... .......... .......... 21%  311M 0s\n",
            "  1150K .......... .......... .......... .......... .......... 22%  277M 0s\n",
            "  1200K .......... .......... .......... .......... .......... 22%  198M 0s\n",
            "  1250K .......... .......... .......... .......... .......... 23%  180M 0s\n",
            "  1300K .......... .......... .......... .......... .......... 24%  301M 0s\n",
            "  1350K .......... .......... .......... .......... .......... 25%  238M 0s\n",
            "  1400K .......... .......... .......... .......... .......... 26%  284M 0s\n",
            "  1450K .......... .......... .......... .......... .......... 27%  241M 0s\n",
            "  1500K .......... .......... .......... .......... .......... 28%  275M 0s\n",
            "  1550K .......... .......... .......... .......... .......... 29%  137M 0s\n",
            "  1600K .......... .......... .......... .......... .......... 30%  305M 0s\n",
            "  1650K .......... .......... .......... .......... .......... 31%  312M 0s\n",
            "  1700K .......... .......... .......... .......... .......... 32%  313M 0s\n",
            "  1750K .......... .......... .......... .......... .......... 33%  248M 0s\n",
            "  1800K .......... .......... .......... .......... .......... 33%  161M 0s\n",
            "  1850K .......... .......... .......... .......... .......... 34%  306M 0s\n",
            "  1900K .......... .......... .......... .......... .......... 35%  314M 0s\n",
            "  1950K .......... .......... .......... .......... .......... 36%  246M 0s\n",
            "  2000K .......... .......... .......... .......... .......... 37%  240M 0s\n",
            "  2050K .......... .......... .......... .......... .......... 38%  172M 0s\n",
            "  2100K .......... .......... .......... .......... .......... 39%  283M 0s\n",
            "  2150K .......... .......... .......... .......... .......... 40%  308M 0s\n",
            "  2200K .......... .......... .......... .......... .......... 41%  313M 0s\n",
            "  2250K .......... .......... .......... .......... .......... 42%  192M 0s\n",
            "  2300K .......... .......... .......... .......... .......... 43%  220M 0s\n",
            "  2350K .......... .......... .......... .......... .......... 44%  184M 0s\n",
            "  2400K .......... .......... .......... .......... .......... 44%  309M 0s\n",
            "  2450K .......... .......... .......... .......... .......... 45%  257M 0s\n",
            "  2500K .......... .......... .......... .......... .......... 46%  177M 0s\n",
            "  2550K .......... .......... .......... .......... .......... 47%  205M 0s\n",
            "  2600K .......... .......... .......... .......... .......... 48%  307M 0s\n",
            "  2650K .......... .......... .......... .......... .......... 49%  313M 0s\n",
            "  2700K .......... .......... .......... .......... .......... 50%  252M 0s\n",
            "  2750K .......... .......... .......... .......... .......... 51%  285M 0s\n",
            "  2800K .......... .......... .......... .......... .......... 52%  143M 0s\n",
            "  2850K .......... .......... .......... .......... .......... 53%  281M 0s\n",
            "  2900K .......... .......... .......... .......... .......... 54%  259M 0s\n",
            "  2950K .......... .......... .......... .......... .......... 55%  169M 0s\n",
            "  3000K .......... .......... .......... .......... .......... 55%  294M 0s\n",
            "  3050K .......... .......... .......... .......... .......... 56%  230M 0s\n",
            "  3100K .......... .......... .......... .......... .......... 57%  286M 0s\n",
            "  3150K .......... .......... .......... .......... .......... 58%  315M 0s\n",
            "  3200K .......... .......... .......... .......... .......... 59%  145M 0s\n",
            "  3250K .......... .......... .......... .......... .......... 60%  223M 0s\n",
            "  3300K .......... .......... .......... .......... .......... 61%  308M 0s\n",
            "  3350K .......... .......... .......... .......... .......... 62%  285M 0s\n",
            "  3400K .......... .......... .......... .......... .......... 63%  156M 0s\n",
            "  3450K .......... .......... .......... .......... .......... 64%  223M 0s\n",
            "  3500K .......... .......... .......... .......... .......... 65%  306M 0s\n",
            "  3550K .......... .......... .......... .......... .......... 66%  296M 0s\n",
            "  3600K .......... .......... .......... .......... .......... 66%  175M 0s\n",
            "  3650K .......... .......... .......... .......... .......... 67%  178M 0s\n",
            "  3700K .......... .......... .......... .......... .......... 68%  284M 0s\n",
            "  3750K .......... .......... .......... .......... .......... 69%  314M 0s\n",
            "  3800K .......... .......... .......... .......... .......... 70%  197M 0s\n",
            "  3850K .......... .......... .......... .......... .......... 71%  208M 0s\n",
            "  3900K .......... .......... .......... .......... .......... 72%  230M 0s\n",
            "  3950K .......... .......... .......... .......... .......... 73%  307M 0s\n",
            "  4000K .......... .......... .......... .......... .......... 74%  270M 0s\n",
            "  4050K .......... .......... .......... .......... .......... 75%  236M 0s\n",
            "  4100K .......... .......... .......... .......... .......... 76%  167M 0s\n",
            "  4150K .......... .......... .......... .......... .......... 77%  310M 0s\n",
            "  4200K .......... .......... .......... .......... .......... 77%  311M 0s\n",
            "  4250K .......... .......... .......... .......... .......... 78%  213M 0s\n",
            "  4300K .......... .......... .......... .......... .......... 79%  171M 0s\n",
            "  4350K .......... .......... .......... .......... .......... 80%  275M 0s\n",
            "  4400K .......... .......... .......... .......... .......... 81%  314M 0s\n",
            "  4450K .......... .......... .......... .......... .......... 82%  250M 0s\n",
            "  4500K .......... .......... .......... .......... .......... 83%  209M 0s\n",
            "  4550K .......... .......... .......... .......... .......... 84%  171M 0s\n",
            "  4600K .......... .......... .......... .......... .......... 85%  256M 0s\n",
            "  4650K .......... .......... .......... .......... .......... 86%  263M 0s\n",
            "  4700K .......... .......... .......... .......... .......... 87%  317M 0s\n",
            "  4750K .......... .......... .......... .......... .......... 88%  230M 0s\n",
            "  4800K .......... .......... .......... .......... .......... 89%  150M 0s\n",
            "  4850K .......... .......... .......... .......... .......... 89%  307M 0s\n",
            "  4900K .......... .......... .......... .......... .......... 90%  315M 0s\n",
            "  4950K .......... .......... .......... .......... .......... 91%  312M 0s\n",
            "  5000K .......... .......... .......... .......... .......... 92%  220M 0s\n",
            "  5050K .......... .......... .......... .......... .......... 93%  200M 0s\n",
            "  5100K .......... .......... .......... .......... .......... 94%  278M 0s\n",
            "  5150K .......... .......... .......... .......... .......... 95%  310M 0s\n",
            "  5200K .......... .......... .......... .......... .......... 96%  256M 0s\n",
            "  5250K .......... .......... .......... .......... .......... 97%  307M 0s\n",
            "  5300K .......... .......... .......... .......... .......... 98%  306M 0s\n",
            "  5350K .......... .......... .......... .......... .......... 99%  298M 0s\n",
            "  5400K .......... .......... .......... .......... ......... 100%  284M=0.03s\n",
            "\n",
            "2025-07-11 12:56:59 (211 MB/s) - ‘pen_highlighter_annotated_dataset.zip.4’ saved [5579790/5579790]\n",
            "\n",
            "  End-of-central-directory signature not found.  Either this file is not\n",
            "  a zipfile, or it constitutes one disk of a multi-part archive.  In the\n",
            "  latter case the central directory and zipfile comment will be found on\n",
            "  the last disk(s) of this archive.\n",
            "unzip:  cannot find zipfile directory in one of pen_highlighter_annotated_dataset.zip or\n",
            "        pen_highlighter_annotated_dataset.zip.zip, and cannot find pen_highlighter_annotated_dataset.zip.ZIP, period.\n"
          ]
        },
        {
          "output_type": "error",
          "ename": "CalledProcessError",
          "evalue": "Command 'b'wget https://github.com/awesomeness1211/asn2_pen_highlighter/raw/main/pen_highlighter_annotated_dataset.zip\\nmkdir -p datasets\\nunzip pen_highlighter_annotated_dataset.zip -d datasets/\\n\\n'' returned non-zero exit status 9.",
          "traceback": [
            "\u001b[0;31m---------------------------------------------------------------------------\u001b[0m",
            "\u001b[0;31mCalledProcessError\u001b[0m                        Traceback (most recent call last)",
            "\u001b[0;32m/tmp/ipython-input-7-1248726171.py\u001b[0m in \u001b[0;36m<cell line: 0>\u001b[0;34m()\u001b[0m\n\u001b[0;32m----> 1\u001b[0;31m \u001b[0mget_ipython\u001b[0m\u001b[0;34m(\u001b[0m\u001b[0;34m)\u001b[0m\u001b[0;34m.\u001b[0m\u001b[0mrun_cell_magic\u001b[0m\u001b[0;34m(\u001b[0m\u001b[0;34m'bash'\u001b[0m\u001b[0;34m,\u001b[0m \u001b[0;34m''\u001b[0m\u001b[0;34m,\u001b[0m \u001b[0;34m'wget https://github.com/awesomeness1211/asn2_pen_highlighter/raw/main/pen_highlighter_annotated_dataset.zip\\nmkdir -p datasets\\nunzip pen_highlighter_annotated_dataset.zip -d datasets/\\n\\n'\u001b[0m\u001b[0;34m)\u001b[0m\u001b[0;34m\u001b[0m\u001b[0;34m\u001b[0m\u001b[0m\n\u001b[0m",
            "\u001b[0;32m/usr/local/lib/python3.11/dist-packages/google/colab/_shell.py\u001b[0m in \u001b[0;36mrun_cell_magic\u001b[0;34m(self, magic_name, line, cell)\u001b[0m\n\u001b[1;32m    274\u001b[0m     \u001b[0;32mif\u001b[0m \u001b[0mline\u001b[0m \u001b[0;32mand\u001b[0m \u001b[0;32mnot\u001b[0m \u001b[0mcell\u001b[0m\u001b[0;34m:\u001b[0m\u001b[0;34m\u001b[0m\u001b[0;34m\u001b[0m\u001b[0m\n\u001b[1;32m    275\u001b[0m       \u001b[0mcell\u001b[0m \u001b[0;34m=\u001b[0m \u001b[0;34m' '\u001b[0m\u001b[0;34m\u001b[0m\u001b[0;34m\u001b[0m\u001b[0m\n\u001b[0;32m--> 276\u001b[0;31m     \u001b[0;32mreturn\u001b[0m \u001b[0msuper\u001b[0m\u001b[0;34m(\u001b[0m\u001b[0;34m)\u001b[0m\u001b[0;34m.\u001b[0m\u001b[0mrun_cell_magic\u001b[0m\u001b[0;34m(\u001b[0m\u001b[0mmagic_name\u001b[0m\u001b[0;34m,\u001b[0m \u001b[0mline\u001b[0m\u001b[0;34m,\u001b[0m \u001b[0mcell\u001b[0m\u001b[0;34m)\u001b[0m\u001b[0;34m\u001b[0m\u001b[0;34m\u001b[0m\u001b[0m\n\u001b[0m\u001b[1;32m    277\u001b[0m \u001b[0;34m\u001b[0m\u001b[0m\n\u001b[1;32m    278\u001b[0m \u001b[0;34m\u001b[0m\u001b[0m\n",
            "\u001b[0;32m/usr/local/lib/python3.11/dist-packages/IPython/core/interactiveshell.py\u001b[0m in \u001b[0;36mrun_cell_magic\u001b[0;34m(self, magic_name, line, cell)\u001b[0m\n\u001b[1;32m   2471\u001b[0m             \u001b[0;32mwith\u001b[0m \u001b[0mself\u001b[0m\u001b[0;34m.\u001b[0m\u001b[0mbuiltin_trap\u001b[0m\u001b[0;34m:\u001b[0m\u001b[0;34m\u001b[0m\u001b[0;34m\u001b[0m\u001b[0m\n\u001b[1;32m   2472\u001b[0m                 \u001b[0margs\u001b[0m \u001b[0;34m=\u001b[0m \u001b[0;34m(\u001b[0m\u001b[0mmagic_arg_s\u001b[0m\u001b[0;34m,\u001b[0m \u001b[0mcell\u001b[0m\u001b[0;34m)\u001b[0m\u001b[0;34m\u001b[0m\u001b[0;34m\u001b[0m\u001b[0m\n\u001b[0;32m-> 2473\u001b[0;31m                 \u001b[0mresult\u001b[0m \u001b[0;34m=\u001b[0m \u001b[0mfn\u001b[0m\u001b[0;34m(\u001b[0m\u001b[0;34m*\u001b[0m\u001b[0margs\u001b[0m\u001b[0;34m,\u001b[0m \u001b[0;34m**\u001b[0m\u001b[0mkwargs\u001b[0m\u001b[0;34m)\u001b[0m\u001b[0;34m\u001b[0m\u001b[0;34m\u001b[0m\u001b[0m\n\u001b[0m\u001b[1;32m   2474\u001b[0m             \u001b[0;32mreturn\u001b[0m \u001b[0mresult\u001b[0m\u001b[0;34m\u001b[0m\u001b[0;34m\u001b[0m\u001b[0m\n\u001b[1;32m   2475\u001b[0m \u001b[0;34m\u001b[0m\u001b[0m\n",
            "\u001b[0;32m/usr/local/lib/python3.11/dist-packages/IPython/core/magics/script.py\u001b[0m in \u001b[0;36mnamed_script_magic\u001b[0;34m(line, cell)\u001b[0m\n\u001b[1;32m    140\u001b[0m             \u001b[0;32melse\u001b[0m\u001b[0;34m:\u001b[0m\u001b[0;34m\u001b[0m\u001b[0;34m\u001b[0m\u001b[0m\n\u001b[1;32m    141\u001b[0m                 \u001b[0mline\u001b[0m \u001b[0;34m=\u001b[0m \u001b[0mscript\u001b[0m\u001b[0;34m\u001b[0m\u001b[0;34m\u001b[0m\u001b[0m\n\u001b[0;32m--> 142\u001b[0;31m             \u001b[0;32mreturn\u001b[0m \u001b[0mself\u001b[0m\u001b[0;34m.\u001b[0m\u001b[0mshebang\u001b[0m\u001b[0;34m(\u001b[0m\u001b[0mline\u001b[0m\u001b[0;34m,\u001b[0m \u001b[0mcell\u001b[0m\u001b[0;34m)\u001b[0m\u001b[0;34m\u001b[0m\u001b[0;34m\u001b[0m\u001b[0m\n\u001b[0m\u001b[1;32m    143\u001b[0m \u001b[0;34m\u001b[0m\u001b[0m\n\u001b[1;32m    144\u001b[0m         \u001b[0;31m# write a basic docstring:\u001b[0m\u001b[0;34m\u001b[0m\u001b[0;34m\u001b[0m\u001b[0m\n",
            "\u001b[0;32m<decorator-gen-103>\u001b[0m in \u001b[0;36mshebang\u001b[0;34m(self, line, cell)\u001b[0m\n",
            "\u001b[0;32m/usr/local/lib/python3.11/dist-packages/IPython/core/magic.py\u001b[0m in \u001b[0;36m<lambda>\u001b[0;34m(f, *a, **k)\u001b[0m\n\u001b[1;32m    185\u001b[0m     \u001b[0;31m# but it's overkill for just that one bit of state.\u001b[0m\u001b[0;34m\u001b[0m\u001b[0;34m\u001b[0m\u001b[0m\n\u001b[1;32m    186\u001b[0m     \u001b[0;32mdef\u001b[0m \u001b[0mmagic_deco\u001b[0m\u001b[0;34m(\u001b[0m\u001b[0marg\u001b[0m\u001b[0;34m)\u001b[0m\u001b[0;34m:\u001b[0m\u001b[0;34m\u001b[0m\u001b[0;34m\u001b[0m\u001b[0m\n\u001b[0;32m--> 187\u001b[0;31m         \u001b[0mcall\u001b[0m \u001b[0;34m=\u001b[0m \u001b[0;32mlambda\u001b[0m \u001b[0mf\u001b[0m\u001b[0;34m,\u001b[0m \u001b[0;34m*\u001b[0m\u001b[0ma\u001b[0m\u001b[0;34m,\u001b[0m \u001b[0;34m**\u001b[0m\u001b[0mk\u001b[0m\u001b[0;34m:\u001b[0m \u001b[0mf\u001b[0m\u001b[0;34m(\u001b[0m\u001b[0;34m*\u001b[0m\u001b[0ma\u001b[0m\u001b[0;34m,\u001b[0m \u001b[0;34m**\u001b[0m\u001b[0mk\u001b[0m\u001b[0;34m)\u001b[0m\u001b[0;34m\u001b[0m\u001b[0;34m\u001b[0m\u001b[0m\n\u001b[0m\u001b[1;32m    188\u001b[0m \u001b[0;34m\u001b[0m\u001b[0m\n\u001b[1;32m    189\u001b[0m         \u001b[0;32mif\u001b[0m \u001b[0mcallable\u001b[0m\u001b[0;34m(\u001b[0m\u001b[0marg\u001b[0m\u001b[0;34m)\u001b[0m\u001b[0;34m:\u001b[0m\u001b[0;34m\u001b[0m\u001b[0;34m\u001b[0m\u001b[0m\n",
            "\u001b[0;32m/usr/local/lib/python3.11/dist-packages/IPython/core/magics/script.py\u001b[0m in \u001b[0;36mshebang\u001b[0;34m(self, line, cell)\u001b[0m\n\u001b[1;32m    243\u001b[0m             \u001b[0msys\u001b[0m\u001b[0;34m.\u001b[0m\u001b[0mstderr\u001b[0m\u001b[0;34m.\u001b[0m\u001b[0mflush\u001b[0m\u001b[0;34m(\u001b[0m\u001b[0;34m)\u001b[0m\u001b[0;34m\u001b[0m\u001b[0;34m\u001b[0m\u001b[0m\n\u001b[1;32m    244\u001b[0m         \u001b[0;32mif\u001b[0m \u001b[0margs\u001b[0m\u001b[0;34m.\u001b[0m\u001b[0mraise_error\u001b[0m \u001b[0;32mand\u001b[0m \u001b[0mp\u001b[0m\u001b[0;34m.\u001b[0m\u001b[0mreturncode\u001b[0m\u001b[0;34m!=\u001b[0m\u001b[0;36m0\u001b[0m\u001b[0;34m:\u001b[0m\u001b[0;34m\u001b[0m\u001b[0;34m\u001b[0m\u001b[0m\n\u001b[0;32m--> 245\u001b[0;31m             \u001b[0;32mraise\u001b[0m \u001b[0mCalledProcessError\u001b[0m\u001b[0;34m(\u001b[0m\u001b[0mp\u001b[0m\u001b[0;34m.\u001b[0m\u001b[0mreturncode\u001b[0m\u001b[0;34m,\u001b[0m \u001b[0mcell\u001b[0m\u001b[0;34m,\u001b[0m \u001b[0moutput\u001b[0m\u001b[0;34m=\u001b[0m\u001b[0mout\u001b[0m\u001b[0;34m,\u001b[0m \u001b[0mstderr\u001b[0m\u001b[0;34m=\u001b[0m\u001b[0merr\u001b[0m\u001b[0;34m)\u001b[0m\u001b[0;34m\u001b[0m\u001b[0;34m\u001b[0m\u001b[0m\n\u001b[0m\u001b[1;32m    246\u001b[0m \u001b[0;34m\u001b[0m\u001b[0m\n\u001b[1;32m    247\u001b[0m     \u001b[0;32mdef\u001b[0m \u001b[0m_run_script\u001b[0m\u001b[0;34m(\u001b[0m\u001b[0mself\u001b[0m\u001b[0;34m,\u001b[0m \u001b[0mp\u001b[0m\u001b[0;34m,\u001b[0m \u001b[0mcell\u001b[0m\u001b[0;34m,\u001b[0m \u001b[0mto_close\u001b[0m\u001b[0;34m)\u001b[0m\u001b[0;34m:\u001b[0m\u001b[0;34m\u001b[0m\u001b[0;34m\u001b[0m\u001b[0m\n",
            "\u001b[0;31mCalledProcessError\u001b[0m: Command 'b'wget https://github.com/awesomeness1211/asn2_pen_highlighter/raw/main/pen_highlighter_annotated_dataset.zip\\nmkdir -p datasets\\nunzip pen_highlighter_annotated_dataset.zip -d datasets/\\n\\n'' returned non-zero exit status 9."
          ]
        }
      ],
      "source": [
        "%%bash\n",
        "wget https://github.com/awesomeness1211/asn2_pen_highlighter/raw/main/pen_highlighter_annotated_dataset.zip\n",
        "mkdir -p datasets\n",
        "unzip pen_highlighter_annotated_dataset.zip -d datasets/\n",
        "\n"
      ]
    },
    {
      "cell_type": "code",
      "execution_count": null,
      "id": "316047a8-efcb-49ea-851f-53129bda6ae6",
      "metadata": {
        "id": "316047a8-efcb-49ea-851f-53129bda6ae6"
      },
      "outputs": [],
      "source": [
        "%%capture\n",
        "!pip install ultralytics"
      ]
    },
    {
      "cell_type": "code",
      "execution_count": null,
      "id": "7c6cc1ef-3370-4677-9fdb-72c03984656e",
      "metadata": {
        "id": "7c6cc1ef-3370-4677-9fdb-72c03984656e",
        "colab": {
          "base_uri": "https://localhost:8080/",
          "height": 349
        },
        "outputId": "af93f6cf-413e-47a7-bcf3-416d1e9e70e6"
      },
      "outputs": [
        {
          "ename": "ModuleNotFoundError",
          "evalue": "No module named 'ultralytics'",
          "output_type": "error",
          "traceback": [
            "\u001b[0;31m---------------------------------------------------------------------------\u001b[0m",
            "\u001b[0;31mModuleNotFoundError\u001b[0m                       Traceback (most recent call last)",
            "\u001b[0;32m/tmp/ipython-input-3-1876728586.py\u001b[0m in \u001b[0;36m<cell line: 0>\u001b[0;34m()\u001b[0m\n\u001b[0;32m----> 1\u001b[0;31m \u001b[0;32mfrom\u001b[0m \u001b[0multralytics\u001b[0m \u001b[0;32mimport\u001b[0m \u001b[0msettings\u001b[0m\u001b[0;34m\u001b[0m\u001b[0;34m\u001b[0m\u001b[0m\n\u001b[0m\u001b[1;32m      2\u001b[0m \u001b[0;34m\u001b[0m\u001b[0m\n\u001b[1;32m      3\u001b[0m settings.update({\"wandb\": True,\n\u001b[1;32m      4\u001b[0m                  \"tensorboard\": False})\n",
            "\u001b[0;31mModuleNotFoundError\u001b[0m: No module named 'ultralytics'",
            "",
            "\u001b[0;31m---------------------------------------------------------------------------\u001b[0;32m\nNOTE: If your import is failing due to a missing package, you can\nmanually install dependencies using either !pip or !apt.\n\nTo view examples of installing some common dependencies, click the\n\"Open Examples\" button below.\n\u001b[0;31m---------------------------------------------------------------------------\u001b[0m\n"
          ]
        }
      ],
      "source": [
        "from ultralytics import settings\n",
        "\n",
        "settings.update({\"wandb\": True,\n",
        "                 \"tensorboard\": False})"
      ]
    },
    {
      "cell_type": "code",
      "execution_count": null,
      "id": "632452cb-18c0-476e-9720-5da383275916",
      "metadata": {
        "id": "632452cb-18c0-476e-9720-5da383275916"
      },
      "outputs": [],
      "source": [
        "from ultralytics import YOLO\n",
        "\n",
        "model = YOLO(\"yolov8s.pt\")  # Load a pre-trained YOLO model\n",
        "result = model.train(data=\"datasets/data.yaml\",\n",
        "                     epochs=30,\n",
        "                     save_period=1,\n",
        "                     batch=16,\n",
        "                     device=0,\n",
        "                     project='penhighlighter',\n",
        "                     plots=True)"
      ]
    },
    {
      "cell_type": "code",
      "execution_count": null,
      "id": "171e9e52-a8b7-45e2-aa50-525f9e654ed1",
      "metadata": {
        "id": "171e9e52-a8b7-45e2-aa50-525f9e654ed1"
      },
      "outputs": [],
      "source": [
        "from ultralytics import YOLO\n",
        "\n",
        "model = YOLO(\"penhighlighter/train/weights/best.pt\")\n",
        "validation_results = model.val(data=\"datasets/data.yaml\", device=\"0\")"
      ]
    },
    {
      "cell_type": "code",
      "execution_count": null,
      "id": "3d45c5d6-063c-41d3-8eee-b4c3cde7ed1f",
      "metadata": {
        "id": "3d45c5d6-063c-41d3-8eee-b4c3cde7ed1f"
      },
      "outputs": [],
      "source": [
        "# from ultralytics.utils.benchmarks import benchmark\n",
        "\n",
        "# # Benchmark on GPU (device=0 means the 1st GPU device)\n",
        "# benchmark(model=\"balloon/train/weights/best.pt\", data=\"datasets/data.yaml\", imgsz=640, half=False, device=0)"
      ]
    },
    {
      "cell_type": "code",
      "execution_count": null,
      "id": "787225ff-743f-4257-9432-a9744759d13d",
      "metadata": {
        "id": "787225ff-743f-4257-9432-a9744759d13d"
      },
      "outputs": [],
      "source": [
        "model = YOLO(\"penhighlighter/train/weights/best.pt\")\n",
        "exported_path = model.export(format=\"openvino\", int8=True)"
      ]
    },
    {
      "cell_type": "code",
      "execution_count": null,
      "id": "af07fa47-2ee4-4499-9a4b-2e9ccc01a7cc",
      "metadata": {
        "id": "af07fa47-2ee4-4499-9a4b-2e9ccc01a7cc"
      },
      "outputs": [],
      "source": [
        "import ultralytics\n",
        "from ultralytics import YOLO\n",
        "from PIL import Image\n",
        "\n",
        "source = 'https://github.com/awesomeness1211/asn2_pen_highlighter/blob/main/test_image.png'\n",
        "model = YOLO(\"balloon/train/weights/best_int8_openvino_model\", task='detect')\n",
        "result = model(source, conf=0.5, iou=0.6)\n",
        "\n",
        "# Visualize the results\n",
        "for i, r in enumerate(result):\n",
        "    print(r)\n",
        "    # Plot results image\n",
        "    im_bgr = r.plot()  # BGR-order numpy array\n",
        "    im_rgb = Image.fromarray(im_bgr[..., ::-1])  # RGB-order PIL image\n",
        "\n",
        "    # Show results to screen (in supported environments)\n",
        "    r.show()\n",
        "\n",
        "    # Save results to disk\n",
        "    r.save(filename=f\"results{i}.jpg\")"
      ]
    },
    {
      "cell_type": "code",
      "execution_count": null,
      "id": "9b9c6469-cad9-4d60-a5f3-1ce43a056088",
      "metadata": {
        "id": "9b9c6469-cad9-4d60-a5f3-1ce43a056088"
      },
      "outputs": [],
      "source": [
        "# import locale\n",
        "# locale.getpreferredencoding = lambda: \"UTF-8\""
      ]
    },
    {
      "cell_type": "code",
      "execution_count": null,
      "id": "d452d8a2-e5d2-4c7b-adc9-fc08ba1d1e11",
      "metadata": {
        "id": "d452d8a2-e5d2-4c7b-adc9-fc08ba1d1e11"
      },
      "outputs": [],
      "source": [
        "%%bash\n",
        "mv ./balloon/train/weights/best_int8_openvino_model/ .\n",
        "zip -r best_int8_openvino_model.zip best_int8_openvino_model\n",
        "!wget https://github.com/nyp-sit/it3103-2025S1/raw/refs/heads/main/week5_object_detection/samples/balloon.mp4"
      ]
    },
    {
      "cell_type": "code",
      "execution_count": null,
      "id": "6ff3d7c2-a26c-47fd-956b-e935d0bee224",
      "metadata": {
        "id": "6ff3d7c2-a26c-47fd-956b-e935d0bee224"
      },
      "outputs": [],
      "source": [
        "from ultralytics import YOLO\n",
        "import cv2\n",
        "from google.colab.patches import cv2_imshow  # ✅ Use this for Colab\n",
        "import time\n",
        "\n",
        "# Load the YOLO model (OpenVINO int8)\n",
        "model = YOLO(\"best_int8_openvino_model\", task=\"detect\")\n",
        "\n",
        "# Open the video file\n",
        "video_path = \"pen_highlighter.mp4\"\n",
        "cap = cv2.VideoCapture(video_path)\n",
        "\n",
        "# Loop through the video frames\n",
        "while cap.isOpened():\n",
        "    # Read a frame from the video\n",
        "    success, frame = cap.read()\n",
        "\n",
        "    if success:\n",
        "        # Run YOLO inference on the frame using CPU (OpenVINO)\n",
        "        results = model(frame, device=\"cpu\")\n",
        "\n",
        "        # Visualize the results on the frame\n",
        "        annotated_frame = results[0].plot()\n",
        "\n",
        "        # ✅ Display the annotated frame using Colab-compatible method\n",
        "        cv2_imshow(annotated_frame)\n",
        "\n",
        "        # Wait briefly to simulate real-time video playback (adjust as needed)\n",
        "        time.sleep(0.1)\n",
        "    else:\n",
        "        break\n",
        "\n",
        "# Release the video capture object\n",
        "cap.release()"
      ]
    },
    {
      "cell_type": "code",
      "execution_count": null,
      "id": "246efa3c-d7a8-4e36-83bb-45b9264a675a",
      "metadata": {
        "id": "246efa3c-d7a8-4e36-83bb-45b9264a675a"
      },
      "outputs": [],
      "source": [
        "from ultralytics import YOLO\n",
        "import cv2\n",
        "from tqdm import tqdm\n",
        "\n",
        "def write_video(video_in_filepath, video_out_filepath, model):\n",
        "    # Open the video file\n",
        "\n",
        "    video_reader = cv2.VideoCapture(video_in_filepath)\n",
        "\n",
        "    nb_frames = int(video_reader.get(cv2.CAP_PROP_FRAME_COUNT))\n",
        "    frame_h = int(video_reader.get(cv2.CAP_PROP_FRAME_HEIGHT))\n",
        "    frame_w = int(video_reader.get(cv2.CAP_PROP_FRAME_WIDTH))\n",
        "    fps = video_reader.get(cv2.CAP_PROP_FPS)\n",
        "\n",
        "    video_writer = cv2.VideoWriter(video_out_filepath,\n",
        "                            cv2.VideoWriter_fourcc(*'mp4v'),\n",
        "                            fps,\n",
        "                            (frame_w, frame_h))\n",
        "\n",
        "    # Loop through the video frames\n",
        "    for i in tqdm(range(nb_frames)):\n",
        "        # Read a frame from the video\n",
        "        success, frame = video_reader.read()\n",
        "\n",
        "        if success:\n",
        "            # Run YOLO inference on the frame on GPU Device 0\n",
        "            results = model(frame, device=0)\n",
        "\n",
        "            # Visualize the results on the frame\n",
        "            annotated_frame = results[0].plot()\n",
        "\n",
        "            # Write the annotated frame\n",
        "            video_writer.write(annotated_frame)\n",
        "\n",
        "    video_reader.release()\n",
        "    video_writer.release()\n",
        "    cv2.destroyAllWindows()\n",
        "    cv2.waitKey(1)\n"
      ]
    },
    {
      "cell_type": "code",
      "execution_count": null,
      "id": "51ad2ae2-5136-470d-b7c3-1b669304a803",
      "metadata": {
        "id": "51ad2ae2-5136-470d-b7c3-1b669304a803"
      },
      "outputs": [],
      "source": [
        "from pathlib import Path\n",
        "import os\n",
        "\n",
        "video_in_file = \"pen_highlighter.mp4\"\n",
        "basename = Path(video_in_file).stem\n",
        "video_out_file = os.path.join(basename + '_detected' + '.mp4')\n",
        "model = YOLO(\"best_int8_openvino_model\", task=\"detect\")\n",
        "write_video(video_in_file, video_out_file, model)"
      ]
    }
  ],
  "metadata": {
    "kernelspec": {
      "display_name": "Python [conda env:base] *",
      "language": "python",
      "name": "conda-base-py"
    },
    "language_info": {
      "codemirror_mode": {
        "name": "ipython",
        "version": 3
      },
      "file_extension": ".py",
      "mimetype": "text/x-python",
      "name": "python",
      "nbconvert_exporter": "python",
      "pygments_lexer": "ipython3",
      "version": "3.12.7"
    },
    "colab": {
      "provenance": [],
      "gpuType": "T4",
      "toc_visible": true,
      "include_colab_link": true
    },
    "accelerator": "GPU"
  },
  "nbformat": 4,
  "nbformat_minor": 5
}